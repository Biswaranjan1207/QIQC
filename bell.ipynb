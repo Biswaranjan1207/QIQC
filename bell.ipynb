{
 "cells": [
  {
   "cell_type": "code",
   "execution_count": 5,
   "metadata": {},
   "outputs": [
    {
     "name": "stdout",
     "output_type": "stream",
     "text": [
      "The CHSH Bell inequality mean value is: 0.0\n"
     ]
    }
   ],
   "source": [
    "import numpy as np\n",
    "import matplotlib.pyplot as plt\n",
    "\n",
    "def chsh(a, b, c, d):\n",
    "  return (a * b + c * d - a * d - b * c) / 2.0\n",
    "\n",
    "# Generate random outcomes for the measurements.\n",
    "a = np.linspace(0.0, 2.0, num=50)\n",
    "b = np.linspace(0.0, 2.0, num=50)\n",
    "c = np.linspace(0.0, 2.0, num=50)\n",
    "d = np.linspace(0.0, 2.0, num=50)\n",
    "a,b,c,d = np.meshgrid(a,b,c,d)\n",
    "# Calculate the CHSH Bell inequality.\n",
    "chsh_value = chsh(a, b, c, d)\n",
    "\n",
    "# Print the result.\n",
    "print(\"The CHSH Bell inequality mean value is:\", chsh_value.mean().round(2))"
   ]
  },
  {
   "cell_type": "code",
   "execution_count": 6,
   "metadata": {},
   "outputs": [
    {
     "data": {
      "text/plain": [
       "2.0"
      ]
     },
     "execution_count": 6,
     "metadata": {},
     "output_type": "execute_result"
    }
   ],
   "source": [
    "chsh_value.max()"
   ]
  }
 ],
 "metadata": {
  "kernelspec": {
   "display_name": "Python 3 (ipykernel)",
   "language": "python",
   "name": "python3"
  },
  "language_info": {
   "codemirror_mode": {
    "name": "ipython",
    "version": 3
   },
   "file_extension": ".py",
   "mimetype": "text/x-python",
   "name": "python",
   "nbconvert_exporter": "python",
   "pygments_lexer": "ipython3",
   "version": "3.11.5"
  }
 },
 "nbformat": 4,
 "nbformat_minor": 2
}
