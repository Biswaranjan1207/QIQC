{
 "cells": [
  {
   "cell_type": "markdown",
   "id": "5510744f",
   "metadata": {},
   "source": [
    "# Quadrature-based Bell-inequality violations in NEMS: Figure 5, 6, and 7"
   ]
  },
  {
   "cell_type": "markdown",
   "id": "c6fc118d",
   "metadata": {},
   "source": [
    "J.R. Johansson and N. Lambert\n",
    "\n",
    "This IPython notebook contains the numerical calculations that were performed to generating Fig. 5, 6, and 7 in \"Entangled-state generation and Bell inequality violations in nanomechanical resonators\" ([arXiv:1402.4900](http://arxiv.org/abs/1402.4900)). The simulations were carried out using [QuTiP: Quantum Toolbox in Python](http://www.qutip.org)."
   ]
  },
  {
   "cell_type": "code",
   "execution_count": 1,
   "id": "94f6b07f",
   "metadata": {},
   "outputs": [],
   "source": [
    "%matplotlib inline"
   ]
  },
  {
   "cell_type": "code",
   "execution_count": 2,
   "id": "cc46dc2c",
   "metadata": {},
   "outputs": [],
   "source": [
    "from qutip import *"
   ]
  },
  {
   "cell_type": "code",
   "execution_count": 8,
   "id": "a60a4ce3",
   "metadata": {
    "scrolled": true
   },
   "outputs": [
    {
     "ename": "ImportError",
     "evalue": "cannot import name 'factorial' from 'scipy.misc' (C:\\Users\\ANINDIT\\anaconda3\\Lib\\site-packages\\scipy\\misc\\__init__.py)",
     "output_type": "error",
     "traceback": [
      "\u001b[1;31m---------------------------------------------------------------------------\u001b[0m",
      "\u001b[1;31mImportError\u001b[0m                               Traceback (most recent call last)",
      "Cell \u001b[1;32mIn[8], line 1\u001b[0m\n\u001b[1;32m----> 1\u001b[0m \u001b[38;5;28;01mfrom\u001b[39;00m \u001b[38;5;21;01mbelltests\u001b[39;00m \u001b[38;5;28;01mimport\u001b[39;00m \u001b[38;5;241m*\u001b[39m\n",
      "File \u001b[1;32m~\\Desktop\\work done\\term paper QIQC\\belltests.py:7\u001b[0m\n\u001b[0;32m      1\u001b[0m \u001b[38;5;66;03m# Functions for Bell's inequality testing using quadratures (homodyne\u001b[39;00m\n\u001b[0;32m      2\u001b[0m \u001b[38;5;66;03m# measurements)\u001b[39;00m\n\u001b[0;32m      3\u001b[0m \u001b[38;5;66;03m#\u001b[39;00m\n\u001b[0;32m      4\u001b[0m \u001b[38;5;66;03m# Robert Johansson and Neill Lambert\u001b[39;00m\n\u001b[0;32m      5\u001b[0m \u001b[38;5;66;03m#\u001b[39;00m\n\u001b[0;32m      6\u001b[0m \u001b[38;5;28;01mfrom\u001b[39;00m \u001b[38;5;21;01mscipy\u001b[39;00m \u001b[38;5;28;01mimport\u001b[39;00m \u001b[38;5;241m*\u001b[39m\n\u001b[1;32m----> 7\u001b[0m \u001b[38;5;28;01mfrom\u001b[39;00m \u001b[38;5;21;01mscipy\u001b[39;00m\u001b[38;5;21;01m.\u001b[39;00m\u001b[38;5;21;01mmisc\u001b[39;00m \u001b[38;5;28;01mimport\u001b[39;00m factorial\n\u001b[0;32m      8\u001b[0m \u001b[38;5;28;01mfrom\u001b[39;00m \u001b[38;5;21;01mscipy\u001b[39;00m\u001b[38;5;21;01m.\u001b[39;00m\u001b[38;5;21;01mspecial\u001b[39;00m \u001b[38;5;28;01mimport\u001b[39;00m hermite\n\u001b[0;32m     10\u001b[0m \u001b[38;5;28;01mfrom\u001b[39;00m \u001b[38;5;21;01mpylab\u001b[39;00m \u001b[38;5;28;01mimport\u001b[39;00m \u001b[38;5;241m*\u001b[39m\n",
      "\u001b[1;31mImportError\u001b[0m: cannot import name 'factorial' from 'scipy.misc' (C:\\Users\\ANINDIT\\anaconda3\\Lib\\site-packages\\scipy\\misc\\__init__.py)"
     ]
    }
   ],
   "source": [
    "from belltests import *"
   ]
  },
  {
   "cell_type": "code",
   "execution_count": 6,
   "id": "455ef7cf",
   "metadata": {},
   "outputs": [],
   "source": [
    "from matplotlib import rcParams\n",
    "rcParams[\"font.family\"] = \"STIXGeneral\"\n",
    "rcParams[\"mathtext.fontset\"] = \"stix\""
   ]
  },
  {
   "cell_type": "code",
   "execution_count": 7,
   "id": "e2cc104c",
   "metadata": {},
   "outputs": [],
   "source": [
    "from functools import partial"
   ]
  },
  {
   "cell_type": "markdown",
   "id": "edc9c826",
   "metadata": {},
   "source": [
    "## Parameters"
   ]
  },
  {
   "cell_type": "code",
   "execution_count": null,
   "id": "147150b1",
   "metadata": {},
   "outputs": [],
   "source": [
    "# number of data points on main axis in plots\n",
    "Nres = 100\n",
    "calculate = True\n",
    "\n",
    "# Hilbert space dimention (signal and idler mode)\n",
    "N1 = 10\n",
    "N2 = 10\n",
    "\n",
    "Delta_0 = 0.0\n",
    "gamma_1 = gamma_2 = 0.001\n",
    "gamma_0 = 1.0\n",
    "\n",
    "n_1_th = n_2_th = 0.0\n",
    "\n",
    "kappa = 0.15\n",
    "r = 1.12\n",
    "E = r**2 * kappa / 2\n",
    "\n",
    "phi = pi / 4\n",
    "t_unit = 1/(kappa**2 / gamma_0)\n",
    "tlist = np.linspace(0, 6*t_unit, 100)\n",
    "t_idx_vec = [0, 30, 40, 50, 70, 99]\n",
    "\n",
    "x1_vec = x2_vec = linspace(-5, 5, 50)"
   ]
  },
  {
   "cell_type": "code",
   "execution_count": null,
   "id": "aa0baebd",
   "metadata": {},
   "outputs": [],
   "source": [
    "# simplified chsh\n",
    "#bell_chsh_func = partial(bell_quadrature_chsh_simplified, x1_vec, x2_vec, phi)\n",
    "\n",
    "# full chsh\n",
    "bell_chsh_func = partial(bell_quadrature_chsh, x1_vec, x2_vec, -2*phi, 3*phi, 0, phi)"
   ]
  },
  {
   "cell_type": "markdown",
   "id": "725bcfd6",
   "metadata": {},
   "source": [
    "## Dynamics solver"
   ]
  },
  {
   "cell_type": "markdown",
   "id": "50446795",
   "metadata": {},
   "source": [
    "Solve the dynamics of the equation of motion Eq. (5) in the manuscript:\n",
    "\n",
    "$$\n",
    "\\dot\\rho = -i[H, \\rho] + \\gamma \\mathcal{D}[a_1a_2]\\rho\n",
    "+\n",
    "\\sum_{k=1,2} \\gamma_k \\left\\{(N_k + 1) \\mathcal{D}[a_k] + N_k \\mathcal{D}[a_k^\\dagger]\\right\\}\\rho,\n",
    "$$\n",
    "\n",
    "with Hamiltonian Eq. (7):\n",
    "\n",
    "$$\n",
    "H = i(\\mu a_1^\\dagger a_2^\\dagger - \\mu^*a_1a_2) + \\chi a_1^\\dagger a_1 a_2^\\dagger a_2,\\nonumber\\\\\n",
    "$$\n",
    "\n",
    "See the manuscript for definitions of parameters."
   ]
  },
  {
   "cell_type": "code",
   "execution_count": 4,
   "id": "d6ab253f",
   "metadata": {},
   "outputs": [
    {
     "ename": "NameError",
     "evalue": "name 'N1' is not defined",
     "output_type": "error",
     "traceback": [
      "\u001b[1;31m---------------------------------------------------------------------------\u001b[0m",
      "\u001b[1;31mNameError\u001b[0m                                 Traceback (most recent call last)",
      "Cell \u001b[1;32mIn[4], line 1\u001b[0m\n\u001b[1;32m----> 1\u001b[0m a1 \u001b[38;5;241m=\u001b[39m tensor(destroy(N1), qeye(N2))\n\u001b[0;32m      2\u001b[0m a2 \u001b[38;5;241m=\u001b[39m tensor(qeye(N1), destroy(N2))\n\u001b[0;32m      4\u001b[0m \u001b[38;5;28;01mdef\u001b[39;00m \u001b[38;5;21mdynamics_solve\u001b[39m(kappa, E, gamma_0, gamma_1, gamma_2, n_th):\n",
      "\u001b[1;31mNameError\u001b[0m: name 'N1' is not defined"
     ]
    }
   ],
   "source": [
    "a1 = tensor(destroy(N1), qeye(N2))\n",
    "a2 = tensor(qeye(N1), destroy(N2))\n",
    "\n",
    "def dynamics_solve(kappa, E, gamma_0, gamma_1, gamma_2, n_th):\n",
    "    \n",
    "    n_1_th = n_2_th = n_th    \n",
    "    \n",
    "    gamma = kappa**2 * (gamma_0/2) / (abs(gamma_0/2 + 1j * Delta_0)**2)\n",
    "    chi = - kappa**2 * Delta_0 / (abs(gamma_0/2 + 1j * Delta_0)**2)\n",
    "    mu = E * kappa / (gamma_0 / 2 + 1j * Delta_0) \n",
    "    \n",
    "    # 2 mode PA Hamiltonian\n",
    "    H = 1j * (- a1 * a2 * conjugate(mu) + a1.dag() * a2.dag() * mu) + chi * a1.dag() * a2.dag() * a1 * a2\n",
    "\n",
    "    # start in a thermal state\n",
    "    psi = tensor([thermal_dm(N1, n_1_th), thermal_dm(N2, n_2_th)])  \n",
    "    \n",
    "    # setup collapse operators. only include those with nonzero rates (depends on n_*_th and kappa_*)\n",
    "    c_ops_raw = [[sqrt(gamma_1 * (1+n_1_th)), a1], \n",
    "                 [sqrt(gamma_1 * n_1_th)    , a1.dag()], \n",
    "                 [sqrt(gamma_2 * (1+n_2_th)), a2], \n",
    "                 [sqrt(gamma_2 * n_2_th)    , a2.dag()],\n",
    "                 [sqrt(gamma), a1 * a2]]\n",
    "    \n",
    "    c_ops = []\n",
    "    for rate, op in c_ops_raw:\n",
    "        if rate > 0.0:\n",
    "            c_ops.append(rate * op)\n",
    "        \n",
    "    e_ops = []\n",
    "        \n",
    "    result = mesolve(H, psi, tlist, c_ops, e_ops)\n",
    "    \n",
    "    return result"
   ]
  },
  {
   "cell_type": "markdown",
   "id": "8218cf28",
   "metadata": {},
   "source": [
    "## Plot Bell ineq. vs time: Fig 5"
   ]
  },
  {
   "cell_type": "code",
   "execution_count": null,
   "id": "d204b664",
   "metadata": {},
   "outputs": [],
   "source": [
    "rcParams[\"font.size\"] = \"18\""
   ]
  },
  {
   "cell_type": "code",
   "execution_count": null,
   "id": "e51451bf",
   "metadata": {},
   "outputs": [],
   "source": [
    "def plot_bell_transient(result0, result1):\n",
    "    \n",
    "    bell_chsh_vec = [bell_quadrature_chsh(x1_vec, x2_vec, -2*phi, 3*phi, 0, phi, result1.states[t_idx])\n",
    "                     for t_idx, t in enumerate(tlist)]\n",
    "    bell_ch_vec   = [bell_quadrature_ch(x1_vec, x2_vec, -2*phi, 3*phi, 0, phi, result1.states[t_idx])\n",
    "                     for t_idx, t in enumerate(tlist)]\n",
    "\n",
    "\n",
    "    bell_chsh_vec0 = [bell_quadrature_chsh(x1_vec, x2_vec, -2*phi, 3*phi, 0, phi, result0.states[t_idx])\n",
    "                      for t_idx, t in enumerate(tlist)]\n",
    "    bell_ch_vec0   = [bell_quadrature_ch(x1_vec, x2_vec, -2*phi, 3*phi, 0, phi, result0.states[t_idx])\n",
    "                      for t_idx, t in enumerate(tlist)]\n",
    "    \n",
    "    fig, ax = subplots(1, 1, figsize=(8, 5))\n",
    "\n",
    "    ax.plot(tlist/t_unit, array(bell_ch_vec)   / 1.0, 'b', label=r\"$B_{\\rm CH}$\", linewidth=2)\n",
    "    ax.plot(tlist/t_unit, array(bell_chsh_vec) / 2.0, 'r', label=r\"$B_{\\rm CHSH}/2$\", linewidth=2)\n",
    "    ax.plot(tlist/t_unit, array(bell_ch_vec0)   / 1.0, 'b--', linewidth=1)\n",
    "    ax.plot(tlist/t_unit, array(bell_chsh_vec0) / 2.0, 'r--', linewidth=1)\n",
    "    ax.plot(tlist/t_unit, ones(shape(tlist)), 'k', linewidth=2)\n",
    "    \n",
    "    ax.set_xlabel(r'time $t\\kappa^2/\\gamma_0$', fontsize=18)\n",
    "    ax.legend(loc=4)\n",
    "    \n",
    "    ax.set_yticks([0.9, 1, 1.1])\n",
    "    ax.set_ylim(0.9, 1.1)\n",
    "    fig.tight_layout()\n",
    "    \n",
    "    return fig, axes"
   ]
  },
  {
   "cell_type": "code",
   "execution_count": null,
   "id": "e5638afc",
   "metadata": {},
   "outputs": [],
   "source": [
    "result0 = dynamics_solve(kappa, E, gamma_0, 0, 0, 0)  # no single-mode dissipation: gamma_1 = gamma_2 = 0"
   ]
  },
  {
   "cell_type": "code",
   "execution_count": null,
   "id": "b5d73750",
   "metadata": {},
   "outputs": [],
   "source": [
    "result1 = dynamics_solve(kappa, E, gamma_0, gamma_1, gamma_2, 0)"
   ]
  },
  {
   "cell_type": "code",
   "execution_count": null,
   "id": "02e699c8",
   "metadata": {},
   "outputs": [],
   "source": [
    "fig, axes = plot_bell_transient(result0, result1)"
   ]
  },
  {
   "cell_type": "code",
   "execution_count": null,
   "id": "a24c901a",
   "metadata": {},
   "outputs": [],
   "source": [
    "fig.savefig(\"fig-5-a.png\")\n",
    "fig.savefig(\"fig-5-a.pdf\")"
   ]
  },
  {
   "cell_type": "markdown",
   "id": "67373c06",
   "metadata": {},
   "source": [
    "### Angle dependence at $t\\kappa^2/\\gamma_0 \\approx 1.8$"
   ]
  },
  {
   "cell_type": "code",
   "execution_count": null,
   "id": "428c4534",
   "metadata": {},
   "outputs": [],
   "source": [
    "def plot_bell_angle(result0, result1):\n",
    "    \n",
    "    t_idx = 30  # approx t/t_unit = 1.8\n",
    "    phi_vec = linspace(0.0, pi, Nres)\n",
    "\n",
    "    psi = result1.states[t_idx]\n",
    "\n",
    "    bell_chsh_vec1 = [bell_quadrature_chsh(x1_vec, x2_vec, -2*phi, 3*phi, 0, phi, psi) for phi in phi_vec]\n",
    "    bell_ch_vec1   = [bell_quadrature_ch(x1_vec, x2_vec, -2*phi, 3*phi, 0, phi, psi)   for phi in phi_vec]\n",
    "\n",
    "    psi = result0.states[-1]\n",
    "\n",
    "    bell_chsh_vec0 = [bell_quadrature_chsh(x1_vec, x2_vec, -2*phi, 3*phi, 0, phi, psi) for phi in phi_vec]\n",
    "    bell_ch_vec0   = [bell_quadrature_ch(x1_vec, x2_vec, -2*phi, 3*phi, 0, phi, psi)   for phi in phi_vec]\n",
    "    \n",
    "    fig, ax = subplots(1, 1, figsize=(8, 5))\n",
    "\n",
    "    ax.plot(phi_vec/(pi), abs(array(bell_ch_vec1))   / 1.0, 'b', linewidth=2, label=r\"$B_{\\rm CH}$\")\n",
    "    ax.plot(phi_vec/(pi), abs(array(bell_chsh_vec1)) / 2.0, 'r', linewidth=2, label=r\"$B_{\\rm CHSH}/2$\")\n",
    "    ax.plot(phi_vec/(pi), abs(array(bell_ch_vec0))   / 1.0, 'b--', linewidth=1)\n",
    "    ax.plot(phi_vec/(pi), abs(array(bell_chsh_vec0)) / 2.0, 'r--', linewidth=1)\n",
    "    ax.plot(phi_vec/(pi), ones(shape(phi_vec)), 'k', linewidth=2)\n",
    "\n",
    "    ax.set_xlabel(r\"Bell angle $\\varphi$\", fontsize=18)\n",
    "    ax.legend(loc=4)    \n",
    "\n",
    "    ax.set_yticks([0.6, 0.8, 1])\n",
    "    ax.set_xticks([0, 0.25, 0.5, 0.75, 1])\n",
    "    ax.set_xticklabels([r'$0$', r'$\\pi/4$', r'$\\pi/2$', r'$3\\pi/4$', r'$\\pi$'])\n",
    "\n",
    "    ax.set_ylim(0.6, 1.05)\n",
    "\n",
    "    fig.tight_layout()\n",
    "    \n",
    "    return fig, ax"
   ]
  },
  {
   "cell_type": "code",
   "execution_count": null,
   "id": "a0d071f9",
   "metadata": {},
   "outputs": [],
   "source": [
    "fig, axes = plot_bell_angle(result0, result1)"
   ]
  },
  {
   "cell_type": "code",
   "execution_count": null,
   "id": "af1525a1",
   "metadata": {},
   "outputs": [],
   "source": [
    "fig.savefig(\"fig-5-b.png\")\n",
    "fig.savefig(\"fig-5-b.pdf\")"
   ]
  },
  {
   "cell_type": "markdown",
   "id": "a77f9fa6",
   "metadata": {},
   "source": [
    "## Plot Bell ineq. vs time and $\\kappa$: Fig 6(a,d)"
   ]
  },
  {
   "cell_type": "code",
   "execution_count": null,
   "id": "a4a301c1",
   "metadata": {},
   "outputs": [],
   "source": [
    "rcParams[\"font.size\"] = \"24\""
   ]
  },
  {
   "cell_type": "code",
   "execution_count": null,
   "id": "317dc004",
   "metadata": {},
   "outputs": [],
   "source": [
    "def bell_transient(kappa_vec, gamma_1, gamma_2):\n",
    "    \n",
    "    bell_chsh_mat = zeros((len(kappa_vec), len(tlist)))\n",
    "    for idx, kappa in enumerate(kappa_vec):\n",
    "        r = dynamics_solve(kappa, E, gamma_0, gamma_1, gamma_2, 0)\n",
    "        bell_chsh_mat[idx,:] = array([bell_chsh_func(r.states[t_idx]) for t_idx, t in enumerate(r.times)])/2\n",
    "\n",
    "    return bell_chsh_mat"
   ]
  },
  {
   "cell_type": "code",
   "execution_count": null,
   "id": "6ffa0189",
   "metadata": {},
   "outputs": [],
   "source": [
    "def plot_bell_transient(kappa_vec, data):\n",
    "    \n",
    "    fig, ax = subplots(1, 1, figsize=(8, 6))\n",
    "\n",
    "    kappa_opt = 2*E / 1.12**2\n",
    "    \n",
    "    X, Y = meshgrid(tlist/t_unit, kappa_vec/kappa_opt)\n",
    "    Z = data\n",
    "    Z[Z < 1] = 1.0\n",
    "\n",
    "    norm = mpl.colors.Normalize(1, 1.04) \n",
    "    cmap = get_cmap('Reds', lut=250)\n",
    "    cmap.set_under(\"white\")\n",
    "    \n",
    "    p = ax.pcolor(X, Y, Z-0.0001, cmap=cmap, norm=norm)\n",
    "    ax.plot([0,max(tlist)/t_unit], [1,1], 'k--', lw=2)\n",
    "    cb = fig.colorbar(p)\n",
    "\n",
    "    ax.set_ylabel(r\"$\\kappa/\\kappa_{\\rm opt}$\", fontsize=26, labelpad=0)\n",
    "    ax.set_xlabel(r\"$t{\\bar{\\kappa}}^2/\\bar{\\gamma}_0$\", fontsize=26, labelpad=-3)\n",
    "    cb.set_ticks([1.0, 1.01, 1.02, 1.03, 1.04])\n",
    "    ax.axis('tight')\n",
    "\n",
    "    ax.set_yticks([0.5, 1.0, 1.5])\n",
    "    ax.set_yticklabels([\"0.5\", \"1\", \"1.5\"])\n",
    "    ax.text(6.3, 1.77, r\"$B_{\\rm CHSH}/2$\", fontsize=24)\n",
    "    \n",
    "    return fig, axes"
   ]
  },
  {
   "cell_type": "code",
   "execution_count": null,
   "id": "fe0e17ea",
   "metadata": {},
   "outputs": [],
   "source": [
    "kappa_vec = linspace(0.025, 0.25, Nres)"
   ]
  },
  {
   "cell_type": "code",
   "execution_count": null,
   "id": "dd7e1e90",
   "metadata": {},
   "outputs": [],
   "source": [
    "if calculate:\n",
    "    data = bell_transient(kappa_vec, 0, 0)  # no single-mode dissipation: gamma_1 = gamma_2 = 0\n",
    "    save(\"data-fig-6-a.npy\", data)\n",
    "else:\n",
    "    data = load(\"data-fig-6-a.npy\")"
   ]
  },
  {
   "cell_type": "code",
   "execution_count": null,
   "id": "0ff1640c",
   "metadata": {},
   "outputs": [],
   "source": [
    "fig, axes = plot_bell_transient(kappa_vec, data);"
   ]
  },
  {
   "cell_type": "code",
   "execution_count": null,
   "id": "53bbe264",
   "metadata": {},
   "outputs": [],
   "source": [
    "fig.savefig(\"fig-6-a.png\", dpi=200)\n",
    "fig.savefig(\"fig-6-a.pdf\")"
   ]
  },
  {
   "cell_type": "code",
   "execution_count": null,
   "id": "6a1630fc",
   "metadata": {},
   "outputs": [],
   "source": [
    "if calculate:\n",
    "    data = bell_transient(kappa_vec, gamma_1, gamma_2);\n",
    "    save(\"data-fig-6-d.npy\", data)\n",
    "else:\n",
    "    data = load(\"data-fig-6-d.npy\")"
   ]
  },
  {
   "cell_type": "code",
   "execution_count": null,
   "id": "ce069014",
   "metadata": {},
   "outputs": [],
   "source": [
    "fig, axes = plot_bell_transient(kappa_vec, data);"
   ]
  },
  {
   "cell_type": "code",
   "execution_count": null,
   "id": "4d1b23f2",
   "metadata": {},
   "outputs": [],
   "source": [
    "fig.savefig(\"fig-6-d.png\", dpi=200)\n",
    "fig.savefig(\"fig-6-d.pdf\")"
   ]
  },
  {
   "cell_type": "markdown",
   "id": "e2404ff0",
   "metadata": {},
   "source": [
    "## Plot Bell ineq. vs time and $E$: Fig 6(b,e)"
   ]
  },
  {
   "cell_type": "code",
   "execution_count": null,
   "id": "f8f7ef08",
   "metadata": {},
   "outputs": [],
   "source": [
    "def bell_transient(E_vec, gamma_1, gamma_2):\n",
    "    \n",
    "    bell_chsh_mat = zeros((len(E_vec), len(tlist)))\n",
    "    for idx, E in enumerate(E_vec):\n",
    "        r = dynamics_solve(kappa, E, gamma_0, gamma_1, gamma_2, 0)\n",
    "        bell_chsh_mat[idx,:] = array([bell_chsh_func(r.states[t_idx]) for t_idx, t in enumerate(r.times)])/2\n",
    "        \n",
    "    return bell_chsh_mat"
   ]
  },
  {
   "cell_type": "code",
   "execution_count": null,
   "id": "35b763ad",
   "metadata": {},
   "outputs": [],
   "source": [
    "def plot_bell_transient(E_vec, data):\n",
    "    \n",
    "    fig, ax = subplots(1, 1, figsize=(8, 6))\n",
    "\n",
    "    E_opt = r**2 * kappa / 2\n",
    "\n",
    "    X, Y = meshgrid(tlist/t_unit, E_vec/E_opt)\n",
    "    Z = data\n",
    "    Z[Z < 1] = 1.0\n",
    "\n",
    "    norm=mpl.colors.Normalize(1, 1.04) \n",
    "    cmap=get_cmap('Reds', lut=250)\n",
    "    cmap.set_under(\"white\")\n",
    "    \n",
    "    p = ax.pcolor(X, Y, Z-0.0001, cmap=cmap, norm=norm)\n",
    "    ax.plot([0,max(tlist)/t_unit], [1,1], 'k--', lw=2)\n",
    "    cb = fig.colorbar(p)\n",
    "    \n",
    "    ax.set_ylabel(r\"$E/E_{\\rm opt}$\", fontsize=26, labelpad=0)\n",
    "    ax.set_xlabel(r\"$t\\bar{\\kappa}^2/\\bar{\\gamma}_0$\", fontsize=26, labelpad=-3)\n",
    "    cb.set_ticks([1.0, 1.01, 1.02, 1.03, 1.04])\n",
    "    ax.axis('tight')\n",
    "\n",
    "    ax.set_yticks([1.0, 1.5, 2.0, 2.5])\n",
    "    ax.set_yticklabels([\"1\", \"1.5\", \"2\", \"2.5\"])\n",
    "    ax.text(6.3, 2.78, r\"$B_{\\rm CHSH}/2$\", fontsize=24)\n",
    "    \n",
    "    return fig, axes"
   ]
  },
  {
   "cell_type": "code",
   "execution_count": null,
   "id": "2ea7e76d",
   "metadata": {},
   "outputs": [],
   "source": [
    "E_vec = linspace(0.05, 0.25, Nres)"
   ]
  },
  {
   "cell_type": "code",
   "execution_count": null,
   "id": "704166ee",
   "metadata": {},
   "outputs": [],
   "source": [
    "if calculate:\n",
    "    data = bell_transient(E_vec, 0, 0) # no single-mode dissipation: gamma_1 = gamma_2 = 0\n",
    "    save(\"data-fig-6-b.npy\", data)\n",
    "else:\n",
    "    data = load(\"data-fig-6-b.npy\")"
   ]
  },
  {
   "cell_type": "code",
   "execution_count": null,
   "id": "b12eae56",
   "metadata": {},
   "outputs": [],
   "source": [
    "fig, axes = plot_bell_transient(E_vec, data);"
   ]
  },
  {
   "cell_type": "code",
   "execution_count": null,
   "id": "1467c7c7",
   "metadata": {},
   "outputs": [],
   "source": [
    "fig.savefig(\"fig-6-b.png\", dpi=200)\n",
    "fig.savefig(\"fig-6-b.pdf\")"
   ]
  },
  {
   "cell_type": "code",
   "execution_count": null,
   "id": "6443255b",
   "metadata": {},
   "outputs": [],
   "source": [
    "if calculate:\n",
    "    data = bell_transient(E_vec, gamma_1, gamma_2)\n",
    "    save(\"data-fig-6-e.npy\", data)\n",
    "else:\n",
    "    data = load(\"data-fig-6-e.npy\")"
   ]
  },
  {
   "cell_type": "code",
   "execution_count": null,
   "id": "ea7bf42f",
   "metadata": {},
   "outputs": [],
   "source": [
    "fig, axes = plot_bell_transient(E_vec, data);"
   ]
  },
  {
   "cell_type": "code",
   "execution_count": null,
   "id": "a5dc9cbd",
   "metadata": {},
   "outputs": [],
   "source": [
    "fig.savefig(\"fig-6-e.png\", dpi=200)\n",
    "fig.savefig(\"fig-6-e.pdf\")"
   ]
  },
  {
   "cell_type": "markdown",
   "id": "3b94b467",
   "metadata": {},
   "source": [
    "## Plot Bell ineq. vs time and $\\gamma_0$: Fig 6(c,f)"
   ]
  },
  {
   "cell_type": "code",
   "execution_count": null,
   "id": "f0d7e5ba",
   "metadata": {},
   "outputs": [],
   "source": [
    "def bell_transient(gamma_0_vec, gamma_1, gamma_2):\n",
    "    \n",
    "    bell_chsh_mat = zeros((len(gamma_0_vec), len(tlist)))\n",
    "    for idx, gamma_0 in enumerate(gamma_0_vec):\n",
    "        r = dynamics_solve(kappa, E, gamma_0, gamma_1, gamma_2, 0)\n",
    "        bell_chsh_mat[idx,:] = array([bell_chsh_func(r.states[t_idx]) for t_idx, t in enumerate(r.times)])/2\n",
    "    \n",
    "    return bell_chsh_mat"
   ]
  },
  {
   "cell_type": "code",
   "execution_count": null,
   "id": "8d5d9dba",
   "metadata": {},
   "outputs": [],
   "source": [
    "def plot_bell_transient(gamma_0_vec, data):\n",
    "    \n",
    "    fig, ax = subplots(1, 1, figsize=(8, 6))\n",
    "\n",
    "    X, Y = meshgrid(tlist/t_unit, gamma_0_vec)\n",
    "    Z = data\n",
    "    Z[Z < 1] = 1.0\n",
    "\n",
    "    norm=mpl.colors.Normalize(1, 1.04) \n",
    "    cmap=get_cmap('Reds', lut=250)\n",
    "    cmap.set_under(\"white\")\n",
    "    \n",
    "    p = ax.pcolor(X, Y, Z-0.0001, cmap=cmap, norm=norm)\n",
    "    cb = fig.colorbar(p)\n",
    "\n",
    "    ax.set_ylabel(r\"$\\gamma_0$\", fontsize=26, labelpad=0)\n",
    "    ax.set_xlabel(r\"$t\\bar{\\kappa}^2/\\bar{\\gamma}_0$\", fontsize=26, labelpad=-3)\n",
    "    cb.set_ticks([1.0, 1.01, 1.02, 1.03, 1.04])\n",
    "    ax.set_yticks([0.5, 1.0, 1.5, 2.0, 2.5])\n",
    "    ax.set_yticklabels([\"0.5\", \"1\", \"1.5\", \"2\", \"2.5\"])    \n",
    "    ax.text(6.3, 2.64, r\"$B_{\\rm CHSH}/2$\", fontsize=24)\n",
    "    \n",
    "    return fig, axes"
   ]
  },
  {
   "cell_type": "code",
   "execution_count": null,
   "id": "00616bde",
   "metadata": {},
   "outputs": [],
   "source": [
    "gamma_0_vec = linspace(0.5, 2.5, Nres)"
   ]
  },
  {
   "cell_type": "code",
   "execution_count": null,
   "id": "f93eaa50",
   "metadata": {},
   "outputs": [],
   "source": [
    "if calculate:\n",
    "    data = bell_transient(gamma_0_vec, 0, 0) # no single-mode dissipation: gamma_1 = gamma_2 = 0\n",
    "    save(\"data-fig-6-c.npy\", data)\n",
    "else:\n",
    "    data = load(\"data-fig-6-c.npy\")"
   ]
  },
  {
   "cell_type": "code",
   "execution_count": null,
   "id": "6d4984ed",
   "metadata": {},
   "outputs": [],
   "source": [
    "fig, axes = plot_bell_transient(gamma_0_vec, data);"
   ]
  },
  {
   "cell_type": "code",
   "execution_count": null,
   "id": "71f95782",
   "metadata": {},
   "outputs": [],
   "source": [
    "fig.savefig(\"fig-6-c.png\", dpi=200)\n",
    "fig.savefig(\"fig-6-c.pdf\")"
   ]
  },
  {
   "cell_type": "code",
   "execution_count": null,
   "id": "791bb35a",
   "metadata": {},
   "outputs": [],
   "source": [
    "if calculate:\n",
    "    data = bell_transient(gamma_0_vec, gamma_1, gamma_2)\n",
    "    save(\"data-fig-6-f.npy\", data)\n",
    "else:\n",
    "    data = load(\"data-fig-6-f.npy\")"
   ]
  },
  {
   "cell_type": "code",
   "execution_count": null,
   "id": "68016030",
   "metadata": {},
   "outputs": [],
   "source": [
    "fig, axes = plot_bell_transient(gamma_0_vec, data);"
   ]
  },
  {
   "cell_type": "code",
   "execution_count": null,
   "id": "f48a2163",
   "metadata": {},
   "outputs": [],
   "source": [
    "fig.savefig(\"fig-6-f.png\", dpi=200)\n",
    "fig.savefig(\"fig-6-f.pdf\")"
   ]
  },
  {
   "cell_type": "markdown",
   "id": "60184d91",
   "metadata": {},
   "source": [
    "## Plot Bell ineq. vs time, $\\kappa$, and temperature: Fig 7"
   ]
  },
  {
   "cell_type": "code",
   "execution_count": null,
   "id": "ba5bb3ed",
   "metadata": {},
   "outputs": [],
   "source": [
    "t_unit = 1/(kappa**2 / gamma_0)\n",
    "tlist = np.linspace(0, 4*t_unit, 250)"
   ]
  },
  {
   "cell_type": "code",
   "execution_count": null,
   "id": "9ec6d908",
   "metadata": {},
   "outputs": [],
   "source": [
    "n_th_vec = [0.0, 0.025, 0.05, 0.075]"
   ]
  },
  {
   "cell_type": "code",
   "execution_count": null,
   "id": "70c7496e",
   "metadata": {},
   "outputs": [],
   "source": [
    "def bell_transient(kappa_vec):\n",
    "    \n",
    "    bell_chsh_vec = []\n",
    "    for n_th in n_th_vec:\n",
    "        bell_chsh_mat = zeros((len(kappa_vec), len(tlist)))\n",
    "        for idx, kappa in enumerate(kappa_vec):\n",
    "            E = 1.12**2 * kappa / 2\n",
    "            r = dynamics_solve(kappa, E, gamma_0, gamma_1, gamma_2, n_th)\n",
    "            bell_chsh_mat[idx,:] = array([bell_chsh_func(r.states[t_idx]) for t_idx, t in enumerate(r.times)])/2\n",
    "        \n",
    "        bell_chsh_vec.append(bell_chsh_mat)\n",
    "        \n",
    "    return array(bell_chsh_vec)"
   ]
  },
  {
   "cell_type": "code",
   "execution_count": null,
   "id": "d92c1a96",
   "metadata": {},
   "outputs": [],
   "source": [
    "def plot_bell_transient(kappa_vec, data_vec):\n",
    "    \n",
    "    fig, ax = subplots(1, 1, figsize=(8, 6))\n",
    "\n",
    "    for idx, data in enumerate(data_vec):\n",
    "        \n",
    "        X, Y = meshgrid(tlist/t_unit, kappa_vec)\n",
    "        Z = data\n",
    "        Z[Z < 1] = 1.0\n",
    "    \n",
    "        norm = mpl.colors.Normalize(1, 1.04) \n",
    "        cmap = get_cmap('Reds', lut=250)\n",
    "        cmap.set_under(\"white\")\n",
    "        \n",
    "        if idx == 0:\n",
    "            p = ax.pcolor(X, Y, Z-0.0001, cmap=cmap, norm=norm)\n",
    "        \n",
    "        CS = ax.contour(X, Y, Z-0.0001, (1.0,), colors='k')\n",
    "        clabel(CS, array([1.0]), manual=[(2.0,0.6)], inline_spacing=20,\n",
    "               inline=1, fmt=r'$N = %1.3f$' % (n_th_vec[idx]), fontsize=18)\n",
    "    \n",
    "    ax.set_ylim(0, 1)\n",
    "    ax.set_xlim(0, 4)\n",
    "    ax.set_ylabel(r\"nonlinearity $\\kappa/\\gamma_0$\", fontsize=22)\n",
    "    ax.set_xlabel(r\"time $t\\bar{\\kappa}^2/\\bar{\\gamma}_0$\", fontsize=22)\n",
    "    ax.set_xticks([0, 1, 2, 3, 4])\n",
    "\n",
    "    ax.set_yticks([0, .2, .4, .6, .8, 1])\n",
    "    ax.set_yticklabels([\"0\", \"0.2\", \"0.4\", \"0.6\", \"0.8\", \"1\"])\n",
    "    \n",
    "    fig.tight_layout()\n",
    "    \n",
    "    return fig, axes"
   ]
  },
  {
   "cell_type": "code",
   "execution_count": null,
   "id": "a78ad087",
   "metadata": {},
   "outputs": [],
   "source": [
    "kappa_vec = linspace(0.1, 1.0, Nres)"
   ]
  },
  {
   "cell_type": "code",
   "execution_count": null,
   "id": "a3721ce0",
   "metadata": {},
   "outputs": [],
   "source": [
    "if calculate:\n",
    "    data_vec = bell_transient(kappa_vec)\n",
    "    save(\"data-fig-7-c.npy\", data_vec)\n",
    "else:\n",
    "    data_vec = load(\"data-fig-7.npy\")"
   ]
  },
  {
   "cell_type": "code",
   "execution_count": null,
   "id": "8885119e",
   "metadata": {},
   "outputs": [],
   "source": [
    "fig, axes = plot_bell_transient(kappa_vec, data_vec);"
   ]
  },
  {
   "cell_type": "code",
   "execution_count": null,
   "id": "352d0ab2",
   "metadata": {},
   "outputs": [],
   "source": [
    "fig.savefig(\"fig-7.png\", dpi=200)\n",
    "fig.savefig(\"fig-7.pdf\")"
   ]
  },
  {
   "cell_type": "markdown",
   "id": "bd57f4ca",
   "metadata": {},
   "source": [
    "## Software versions"
   ]
  },
  {
   "cell_type": "code",
   "execution_count": null,
   "id": "9d9f9e09",
   "metadata": {},
   "outputs": [],
   "source": [
    "%reload_ext version_information\n",
    "%version_information numpy, scipy, matplotlib, qutip"
   ]
  }
 ],
 "metadata": {
  "kernelspec": {
   "display_name": "Python 3 (ipykernel)",
   "language": "python",
   "name": "python3"
  },
  "language_info": {
   "codemirror_mode": {
    "name": "ipython",
    "version": 3
   },
   "file_extension": ".py",
   "mimetype": "text/x-python",
   "name": "python",
   "nbconvert_exporter": "python",
   "pygments_lexer": "ipython3",
   "version": "3.11.5"
  }
 },
 "nbformat": 4,
 "nbformat_minor": 1
}
